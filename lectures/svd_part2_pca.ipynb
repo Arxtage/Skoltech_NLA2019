{
 "cells": [
  {
   "cell_type": "markdown",
   "metadata": {},
   "source": [
    "# Principal Component Analysis\n",
    "## Intuition\n",
    "Imagine, that you have a dataset of points. Your goal is to choose orthogonal axes, that describe your data the most informative way. To be precise, we choose first axis in such a way, that maximize the variance (expressiveness) of the projected data. All the following axes have to be orthogonal to the previously chosen ones, while satisfy largest possible variance of the projections. \n",
    "\n",
    "Let's take a look at the simple 2d data. We have a set of blue points on the plane. We can easily see that the projections on the first axis (red dots) have maximum variance at the final position of the animation. The second (and the last) axis should  be orthogonal to the previous one.\n",
    "![](https://i.stack.imgur.com/lNHqt.gif)\n",
    "[source](https://stats.stackexchange.com/questions/2691/making-sense-of-principal-component-analysis-eigenvectors-eigenvalues)\n",
    "\n",
    "This idea could be used in a variety ways. For example, it might happen, that projection of complex data on the principal plane (only 2 components) bring you enough intuition for clustering. The picture below plots projection of the labeled dataset onto the first to principal components (PC's), we can clearly see, that only two vectors (these PC's) would be enogh to differ Finnish people from Italian in particular dataset (celiac disease (Dubois et al. 2010))\n",
    "![](https://nla.skoltech.ru/files/pca_example.png)\n",
    "[source](https://privefl.github.io/bigsnpr/articles/how-to-PCA.html)"
   ]
  },
  {
   "cell_type": "markdown",
   "metadata": {},
   "source": [
    "## Problem\n",
    "The first component should be defined in order to maximize variance, i.e. the sum of all squared projections of data points to our vector ${\\mathbf  {w}}_{{(1)}}$, which implies the following optimization problem:\n",
    "$$\n",
    "{\\mathbf  {w}}_{{(1)}}={\\underset  {\\Vert {\\mathbf  {w}}\\Vert =1}{\\operatorname {\\arg \\,max}}}\\,\\left\\{\\sum _{i}\\left({\\mathbf  {a}}_{{(i)}}\\cdot {\\mathbf  {w}}\\right)^{2}\\right\\}\n",
    "$$\n",
    "\n",
    "or\n",
    "\n",
    "$$\n",
    " \\mathbf {w} _{(1)}={\\underset {\\Vert \\mathbf {w} \\Vert =1}{\\operatorname {\\arg \\,max} }}\\,\\{\\Vert \\mathbf {Aw} \\Vert ^{2}\\}={\\underset {\\Vert \\mathbf {w} \\Vert =1}{\\operatorname {\\arg \\,max} }}\\,\\left\\{\\mathbf {w} ^{\\top}\\mathbf {A^{\\top}} \\mathbf {Aw} \\right\\}\n",
    "$$\n",
    "\n",
    "since we are looking for the unit vector, we can reformulate the problem:\n",
    "\n",
    "$$\n",
    "{\\displaystyle \\mathbf {w} _{(1)}={\\operatorname {\\arg \\,max} }\\,\\left\\{{\\frac {\\mathbf {w} ^{\\top}\\mathbf {A^{\\top}} \\mathbf {Aw} }{\\mathbf {w} ^{\\top}\\mathbf {w} }}\\right\\}}\n",
    "$$\n",
    "\n",
    "It is [known](https://en.wikipedia.org/wiki/Rayleigh_quotient), that for positive semidefinite matrix $A^\\top A$ such vector is nothing else, but eigenvector of $A^\\top A$, which corresponds to the largest eigenvalue. The following components will give you the same results (eigenvectors).\n",
    "\n",
    "So, we can conclude, that the following mapping:\n",
    "\n",
    "$$\n",
    "\\underset{n \\times k}{\\Pi} = \\underset{n \\times d}{A} \\cdot \\underset{d \\times k}{W} \n",
    "$$\n",
    "\n",
    "describes the projection of data onto the $k$ principal components, where $W$ contains first (by the size of eigenvalues) $k$ eigenvectors of $A^\\top A$."
   ]
  },
  {
   "cell_type": "markdown",
   "metadata": {},
   "source": [
    "Now we'll briefly derive how SVD decomposition could lead us to the PCA.\n",
    "\n",
    "Firstly, we write down SVD decomposition of our matrix:\n",
    "\n",
    "$$\n",
    "A = U \\Sigma W^\\top\n",
    "$$\n",
    "\n",
    "and to its transpose:\n",
    "\n",
    "$$\n",
    "\\begin{align}\n",
    "A^\\top\n",
    "&= (U \\Sigma W^\\top)^\\top \\\\\n",
    "&= (W^\\top)^\\top \\Sigma^\\top U^\\top \\\\\n",
    "&= W \\Sigma^\\top U^\\top \\\\\n",
    "&= W \\Sigma U^\\top\n",
    "\\end{align}\n",
    "$$\n",
    "\n",
    "Then, consider matrix $A A^\\top$:\n",
    "\n",
    "$$\n",
    "\\begin{align}\n",
    "A^\\top A\n",
    "&= (W \\Sigma U^\\top)(U \\Sigma V^\\top)  \\\\\n",
    "&= W \\Sigma I \\Sigma W^\\top \\\\\n",
    "&= W \\Sigma \\Sigma W^\\top \\\\\n",
    "&= W \\Sigma^2 W^\\top\n",
    "\\end{align}\n",
    "$$\n",
    "\n",
    "Which corresponds to the eigendecomposition of matrix $A^\\top A$, where $W$ stands for the matrix of eigenvectors of $A^\\top A$, while $\\Sigma^2$ contains eigenvalues of $A^\\top A$.\n",
    "\n",
    "At the end:\n",
    "$$\n",
    "\\begin{align}\n",
    "\\Pi &= A \\cdot W =\\\\\n",
    " &= U \\Sigma W^\\top W = U \\Sigma\n",
    "\\end{align}\n",
    "$$\n",
    "\n",
    "The latter formula provide us with easy way to compute PCA via SVD with any number of principal components:\n",
    "$$\n",
    "\\Pi_r = U_r \\Sigma_r\n",
    "$$"
   ]
  },
  {
   "cell_type": "markdown",
   "metadata": {},
   "source": [
    "## Example. Iris dataset\n",
    "Consider the classical Iris dataset\n",
    "![](https://sebastianraschka.com/images/blog/2015/principal_component_analysis_files/iris.png)\n",
    "[source](https://sebastianraschka.com/Articles/2015_pca_in_3_steps.html)\n",
    "\n",
    "We have the dataset matrix $A \\in \\mathbb{R}^{150 \\times 4}$"
   ]
  },
  {
   "cell_type": "code",
   "execution_count": 108,
   "metadata": {},
   "outputs": [
    {
     "name": "stdout",
     "output_type": "stream",
     "text": [
      "🤖: Dataset contains 150 points in 4-dimensional space\n"
     ]
    }
   ],
   "source": [
    "import numpy as np\n",
    "import matplotlib.pyplot as plt\n",
    "\n",
    "from sklearn.datasets import load_iris\n",
    "from sklearn.preprocessing import StandardScaler\n",
    "\n",
    "iris        = load_iris()\n",
    "A           = iris['data']\n",
    "labels      = iris['target']\n",
    "classes     = iris['target_names']\n",
    "label_names = np.array([classes[label] for label in labels])\n",
    "colours     = ['red', 'blue', 'green']\n",
    "print('🤖: Dataset contains {} points in {}-dimensional space'.format(*A.shape))"
   ]
  },
  {
   "cell_type": "code",
   "execution_count": 53,
   "metadata": {},
   "outputs": [],
   "source": [
    "# Data normalization with zero mean and unit variance\n",
    "A_std = StandardScaler().fit_transform(A)\n",
    "\n",
    "u,s,v = np.linalg.svd(A_std)"
   ]
  },
  {
   "cell_type": "code",
   "execution_count": 54,
   "metadata": {},
   "outputs": [
    {
     "data": {
      "text/plain": [
       "[]"
      ]
     },
     "execution_count": 54,
     "metadata": {},
     "output_type": "execute_result"
    },
    {
     "data": {
      "image/png": "[encoded data removed]",
      "text/plain": [
       "<Figure size 432x288 with 1 Axes>"
      ]
     },
     "metadata": {
      "needs_background": "light"
     },
     "output_type": "display_data"
    }
   ],
   "source": [
    "total_variance = sum(s)\n",
    "variance_explained = [(i / total_variance)*100 for i in sorted(s, reverse=True)]\n",
    "cumulative_variance_explained = np.cumsum(variance_explained)\n",
    "\n",
    "xs = [0.5 + i for i in range(4)]\n",
    "plt.bar(xs, variance_explained, alpha=0.5, align='center',\n",
    "        label='Individual explained variance')\n",
    "plt.step(xs, cumulative_variance_explained, where='mid',\n",
    "         label='Cumulative explained variance')\n",
    "plt.ylabel('Explained variance')\n",
    "plt.xlabel('Principal components')\n",
    "plt.legend(loc='best')\n",
    "plt.xticks([0,1,2,3,4])\n",
    "plt.grid()\n",
    "plt.plot()"
   ]
  },
  {
   "cell_type": "code",
   "execution_count": 118,
   "metadata": {},
   "outputs": [],
   "source": [
    "rank = 2\n",
    "projections = u[:,:rank] @ np.diag(s[:rank])"
   ]
  },
  {
   "cell_type": "code",
   "execution_count": 119,
   "metadata": {
    "scrolled": true
   },
   "outputs": [
    {
     "name": "stdout",
     "output_type": "stream",
     "text": [
      "setosa red\n",
      "versicolor blue\n",
      "virginica green\n"
     ]
    },
    {
     "data": {
      "image/png": "[encoded data removed]",
      "text/plain": [
       "<Figure size 432x288 with 1 Axes>"
      ]
     },
     "metadata": {
      "needs_background": "light"
     },
     "output_type": "display_data"
    }
   ],
   "source": [
    "for label, colour in zip(classes, colours):\n",
    "    print(label, colour)\n",
    "    plt.scatter(projections[label_names == label, 0],\n",
    "                projections[label_names == label, 1],\n",
    "                label = label,\n",
    "                c = colour)\n",
    "plt.xlabel('PC 1')\n",
    "plt.ylabel('PC 2')\n",
    "plt.legend(loc='lower center')\n",
    "plt.grid()\n",
    "plt.show()"
   ]
  },
  {
   "cell_type": "markdown",
   "metadata": {},
   "source": [
    "## Related materials\n",
    "* [Wikipedia](https://en.wikipedia.org/wiki/Principal_component_analysis)"
   ]
  }
 ],
 "metadata": {
  "anaconda-cloud": {},
  "celltoolbar": "Slideshow",
  "kernelspec": {
   "display_name": "Python 3",
   "language": "python",
   "name": "python3"
  },
  "language_info": {
   "codemirror_mode": {
    "name": "ipython",
    "version": 3
   },
   "file_extension": ".py",
   "mimetype": "text/x-python",
   "name": "python",
   "nbconvert_exporter": "python",
   "pygments_lexer": "ipython3",
   "version": "3.7.1"
  },
  "latex_envs": {
   "LaTeX_envs_menu_present": true,
   "bibliofile": "biblio.bib",
   "cite_by": "apalike",
   "current_citInitial": 1,
   "eqLabelWithNumbers": true,
   "eqNumInitial": 1,
   "labels_anchors": false,
   "latex_user_defs": false,
   "report_style_numbering": false,
   "user_envs_cfg": false
  },
  "nav_menu": {},
  "toc": {
   "base_numbering": 1,
   "nav_menu": {},
   "number_sections": false,
   "sideBar": true,
   "skip_h1_title": false,
   "title_cell": "Table of Contents",
   "title_sidebar": "Contents",
   "toc_cell": false,
   "toc_position": {},
   "toc_section_display": "block",
   "toc_window_display": false
  }
 },
 "nbformat": 4,
 "nbformat_minor": 1
}
