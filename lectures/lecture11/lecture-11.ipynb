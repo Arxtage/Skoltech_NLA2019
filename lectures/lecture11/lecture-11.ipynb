{
 "cells": [
  {
   "cell_type": "markdown",
   "metadata": {
    "slideshow": {
     "slide_type": "slide"
    }
   },
   "source": [
    "# Lecture 11. Intro to iterative methods"
   ]
  },
  {
   "cell_type": "markdown",
   "metadata": {
    "slideshow": {
     "slide_type": "slide"
    }
   },
   "source": [
    "## The main topics for this part\n",
    "\n",
    "Concept of **iterative methods** for linear systems: \n",
    "- Richardson iteration and its convergence\n",
    "- Chebyshev iteration"
   ]
  },
  {
   "cell_type": "markdown",
   "metadata": {
    "slideshow": {
     "slide_type": "slide"
    }
   },
   "source": [
    "# Iterative methods\n",
    "\n",
    "- If we want to achieve $\\mathcal{O}(N)$ complexity of solving sparse linear systems, then direct solvers are not appropriate.\n",
    "\n",
    "- If we want to solve partial eigenproblem, the full eigendecomposition is too costly.\n",
    "\n",
    "- For both problems we will use iterative, Krylov subspace solvers, which treat the matrix as a **black-box** linear operator."
   ]
  },
  {
   "cell_type": "markdown",
   "metadata": {
    "slideshow": {
     "slide_type": "slide"
    }
   },
   "source": [
    "## Matrix as a black box\n",
    "\n",
    "- We have now an absolutely different view on a matrix: matrix is now a **linear operator**, that acts on a vector,  \n",
    "and this action can be computed in $\\mathcal{O}(N)$ operations.\n",
    "\n",
    "- **This is the only information** we know about the matrix: the <font color='red'> matrix-by-vector product (matvec) </font>\n",
    "\n",
    "- Can we solve linear systems using only matvecs?\n",
    "\n",
    "- Of course, we can multiply by the colums of the identity matrix, and recover the full matrix, but it is not what we need."
   ]
  },
  {
   "cell_type": "markdown",
   "metadata": {
    "slideshow": {
     "slide_type": "slide"
    }
   },
   "source": [
    "## Richardson iteration\n",
    "The simplest idea is the **\"simple iteration method\"** or **Richardson iteration**.  \n",
    "\n",
    "\n",
    "  $$Ax = f,$$\n",
    "  $$\\tau  (Ax - f) = 0,$$\n",
    "   $$x - \\tau (Ax - f) = x,$$\n",
    "   $$x_{k+1} = x_k - \\tau (Ax_k - f),$$\n",
    "   \n",
    "   where $\\tau$ is the **iteration parameter**, which can be always chosen such that the method **converges**."
   ]
  },
  {
   "cell_type": "markdown",
   "metadata": {
    "slideshow": {
     "slide_type": "slide"
    }
   },
   "source": [
    "## Connection to ODEs\n",
    "\n",
    "- The Richardson iteration has a deep connection to the Ordinary Differential Equations (ODE).\n",
    "\n",
    "\n",
    "- Consider a time-dependent problem ($A=A^*>0$)\n",
    "\n",
    "$$\\frac{dy}{dt} + A y = f, \\quad y(0) = y_0.$$\n",
    "\n",
    "- Then $y(t) \\rightarrow A^{-1} f$ as $t \\rightarrow \\infty$, and the **Euler scheme** reads\n",
    "\n",
    "$$\\frac{y_{k+1} - y_k}{\\tau} = -A y_k + f.$$\n",
    "\n",
    "which leads to the Richardson iteration\n",
    "\n",
    "$$\n",
    "    y_{k+1} = y_k - \\tau(Ay_k -f)\n",
    "$$"
   ]
  },
  {
   "cell_type": "markdown",
   "metadata": {
    "slideshow": {
     "slide_type": "slide"
    }
   },
   "source": [
    "## Convergence of the Richardson method\n",
    "\n",
    "- Let $x_*$ be the solution; introduce an error $e_k = x_{k} - x_*$, then  \n",
    "\n",
    "$$\n",
    "     e_{k+1} = (I - \\tau A) e_k,\n",
    "$$\n",
    "\n",
    "therefore if $\\Vert I - \\tau A \\Vert < 1$ in any norm, the iteration converges. \n",
    "\n",
    "- For symmetric positive definite case it is always possible to select $\\tau$ such that the method converges.\n",
    "\n",
    "- What about the non-symmetric case? Below demo will be presented..."
   ]
  },
  {
   "cell_type": "markdown",
   "metadata": {
    "slideshow": {
     "slide_type": "slide"
    }
   },
   "source": [
    "## Optimal parameter choice\n",
    "\n",
    "- The choise of $\\tau$ that minimizes $\\|I - \\tau A\\|_2$ for $A = A^* > 0$ is (prove it!)\n",
    "\n",
    "$$\n",
    "  \\tau_\\mathrm{opt} = \\frac{2}{\\lambda_{\\min} + \\lambda_{\\max}}.\n",
    "$$\n",
    "\n",
    "where $\\lambda_{\\min}$ is the minimal eigenvalue, and $\\lambda_{\\max}$ is the maximal eigenvalue of the matrix $A$.\n",
    "\n",
    "- So, to find optimal parameter, we need to know the **bounds of the spectrum** of the matrix $A$, and we can compute it by using **power method**."
   ]
  },
  {
   "cell_type": "markdown",
   "metadata": {
    "slideshow": {
     "slide_type": "slide"
    }
   },
   "source": [
    "## Condition number and convergence speed\n",
    "\n",
    "Even with the optimal parameter choice, the error at the next step satisfies\n",
    "\n",
    "$$\\|e_{k+1}\\|_2 \\leq q \\|e_k\\|_2 , \\quad\\rightarrow \\quad \\|e_k\\|_2 \\leq q^{k} \\|e_0\\|_2,$$\n",
    "\n",
    "where \n",
    "\n",
    "$$\n",
    "   q = \\frac{\\lambda_{\\max} - \\lambda_{\\min}}{\\lambda_{\\max} + \\lambda_{\\min}} = \\frac{\\mathrm{cond}(A) - 1}{\\mathrm{cond}(A)+1},\n",
    "$$\n",
    "\n",
    "$$\\mathrm{cond}(A) = \\frac{\\lambda_{\\max}}{\\lambda_{\\min}} \\quad \\text{for} \\quad A=A^*>0$$\n",
    "\n",
    "is the condition number of $A$.\n",
    "\n",
    "Let us do some demo..."
   ]
  },
  {
   "cell_type": "code",
   "execution_count": 4,
   "metadata": {
    "slideshow": {
     "slide_type": "slide"
    }
   },
   "outputs": [
    {
     "name": "stdout",
     "output_type": "stream",
     "text": [
      "Maximum eigenvalue = 3.6825070656623633, minimum eigenvalue = 0.08101405277100539\n",
      "Condition number = 45.45516413147915\n",
      "[0.9186479  0.94484203 0.95170654 0.95466793 0.95595562 0.95651542\n",
      " 0.9567591  0.95686534 0.95691172 0.95693198 0.95694084 0.95694472\n",
      " 0.95694642 0.95694716 0.95694748 0.95694763 0.95694769 0.95694771\n",
      " 0.95694773 0.95694773 0.95694773 0.95694774 0.95694774 0.95694774\n",
      " 0.95694774 0.95694774 0.95694774 0.95694774 0.95694774 0.95694774\n",
      " 0.95694774 0.95694774 0.95694774 0.95694774 0.95694774 0.95694774\n",
      " 0.95694774 0.95694774 0.95694774 0.95694774 0.95694774 0.95694774\n",
      " 0.95694774 0.95694774 0.95694774 0.95694774 0.95694774 0.95694774\n",
      " 0.95694774 0.95694774 0.95694774 0.95694774 0.95694774 0.95694774\n",
      " 0.95694774 0.95694774 0.95694774 0.95694774 0.95694774 0.95694774\n",
      " 0.95694774 0.95694774 0.95694774 0.95694774 0.95694774 0.95694774\n",
      " 0.95694774 0.95694774 0.95694774 0.95694774 0.95694774 0.95694774\n",
      " 0.95694774 0.95694774 0.95694774 0.95694774 0.95694774 0.95694774\n",
      " 0.95694774 0.95694774 0.95694774 0.95694774 0.95694774 0.95694774\n",
      " 0.95694774 0.95694774 0.95694774 0.95694774 0.95694774 0.95694774\n",
      " 0.95694774 0.95694774 0.95694774 0.95694774 0.95694774 0.95694774\n",
      " 0.95694774 0.95694774 0.95694774]\n",
      "Theoretical factor: 0.956947735792311\n"
     ]
    },
    {
     "data": {
      "image/png": "[encoded data removed]",
      "text/plain": [
       "<Figure size 432x288 with 1 Axes>"
      ]
     },
     "metadata": {
      "needs_background": "light"
     },
     "output_type": "display_data"
    }
   ],
   "source": [
    "import numpy as np\n",
    "import matplotlib.pyplot as plt\n",
    "%matplotlib inline\n",
    "plt.rc(\"text\", usetex=True)\n",
    "import scipy as sp\n",
    "import scipy.sparse\n",
    "import scipy.sparse.linalg as spla\n",
    "import scipy\n",
    "from scipy.sparse import csc_matrix\n",
    "n = 10\n",
    "ex = np.ones(n);\n",
    "A = sp.sparse.spdiags(np.vstack((-ex,  2*ex, -ex)), [-1, 0, 1], n, n, 'csr'); \n",
    "rhs = np.ones(n)\n",
    "ev1, vec = spla.eigsh(A, k=2, which='LA')\n",
    "ev2, vec = spla.eigsh(A, k=2, which='SA')\n",
    "lam_max = ev1[0]\n",
    "lam_min = ev2[0]\n",
    "\n",
    "tau_opt = 2.0/(lam_max + lam_min)\n",
    "\n",
    "fig, ax = plt.subplots()\n",
    "plt.close(fig)\n",
    "\n",
    "niters = 100\n",
    "x = np.zeros(n)\n",
    "res_richardson = []\n",
    "for i in range(niters):\n",
    "    rr = A.dot(x) - rhs\n",
    "    x = x - tau_opt * rr\n",
    "    res_richardson.append(np.linalg.norm(rr))\n",
    "#Convergence of an ordinary Richardson (with optimal parameter)\n",
    "plt.semilogy(res_richardson)\n",
    "plt.xlabel(\"Number of iterations, $k$\", fontsize=20)\n",
    "plt.ylabel(\"Residual norm, $\\|Ax_k - b\\|_2$\", fontsize=20)\n",
    "plt.xticks(fontsize=20)\n",
    "plt.yticks(fontsize=20)\n",
    "print(\"Maximum eigenvalue = {}, minimum eigenvalue = {}\".format(lam_max, lam_min))\n",
    "cond_number = lam_max.real / lam_min.real\n",
    "print(\"Condition number = {}\".format(cond_number))\n",
    "print(np.array(res_richardson)[1:] / np.array(res_richardson)[:-1])\n",
    "print(\"Theoretical factor: {}\".format((cond_number - 1) / (cond_number + 1)))"
   ]
  },
  {
   "cell_type": "markdown",
   "metadata": {
    "slideshow": {
     "slide_type": "slide"
    }
   },
   "source": [
    "- Thus, for **ill-conditioned** matrices the error of the simple iteration method decays very slowly.<br>\n",
    "- This is another reason why **condition number** is so important:\n",
    "\n",
    "    * Besides  the bound on the error in the solution, it also gives an estimate of the number of iterations for the iterative methods.\n",
    "\n",
    "- Main questions for the iterative method is how to make the matrix **better conditioned**.\n",
    "- The answer is <font color='red'> use preconditioners </font>. Preconditioners will be discussed in further lectures."
   ]
  },
  {
   "cell_type": "markdown",
   "metadata": {
    "slideshow": {
     "slide_type": "slide"
    }
   },
   "source": [
    "### Consider non-hermitian matrix $A$\n",
    "\n",
    "Possible cases of Richardson iteration behaviour:\n",
    "- convergence\n",
    "- divergence\n",
    "- almost stable trajectory\n",
    "\n",
    "**Q:** how can we identify our case **before** running iterative method?"
   ]
  },
  {
   "cell_type": "code",
   "execution_count": 6,
   "metadata": {
    "slideshow": {
     "slide_type": "slide"
    }
   },
   "outputs": [
    {
     "name": "stdout",
     "output_type": "stream",
     "text": [
      "Spectrum of the matrix = [0.5+1.32287566j 0.5-1.32287566j]\n"
     ]
    }
   ],
   "source": [
    "# B = np.random.randn(2, 2)\n",
    "B = np.array([[1, 2], [-1, 0]])\n",
    "# B = np.array([[0, 1], [-1, 0]])\n",
    "x_true = np.zeros(2)\n",
    "f = B.dot(x_true)\n",
    "eigvals = np.linalg.eigvals(B)\n",
    "print(\"Spectrum of the matrix = {}\".format(eigvals))\n",
    "\n",
    "# Run Richardson iteration\n",
    "x = np.array([0, -1])\n",
    "tau = 1e-2\n",
    "conv_x = [x]\n",
    "r = B.dot(x) - f\n",
    "conv_r = [np.linalg.norm(r)]\n",
    "num_iter = 1000\n",
    "for i in range(num_iter):\n",
    "    x = x - tau * r\n",
    "    conv_x.append(x)\n",
    "    r = B.dot(x) - f\n",
    "    conv_r.append(np.linalg.norm(r))"
   ]
  },
  {
   "cell_type": "code",
   "execution_count": 7,
   "metadata": {
    "slideshow": {
     "slide_type": "slide"
    }
   },
   "outputs": [
    {
     "data": {
      "text/plain": [
       "Text(0,0.5,'Residual norm')"
      ]
     },
     "execution_count": 7,
     "metadata": {},
     "output_type": "execute_result"
    },
    {
     "data": {
      "image/png": "[encoded data removed]",
      "text/plain": [
       "<Figure size 432x288 with 1 Axes>"
      ]
     },
     "metadata": {
      "needs_background": "light"
     },
     "output_type": "display_data"
    }
   ],
   "source": [
    "plt.semilogy(conv_r)\n",
    "plt.xlabel(\"Number of iteration, $k$\", fontsize=20)\n",
    "plt.ylabel(\"Residual norm\", fontsize=20)"
   ]
  },
  {
   "cell_type": "code",
   "execution_count": 8,
   "metadata": {
    "slideshow": {
     "slide_type": "slide"
    }
   },
   "outputs": [
    {
     "data": {
      "text/plain": [
       "Text(0.5,1,'$x_0 = (0, -1)$')"
      ]
     },
     "execution_count": 8,
     "metadata": {},
     "output_type": "execute_result"
    },
    {
     "data": {
      "image/png": "[encoded data removed]",
      "text/plain": [
       "<Figure size 432x288 with 1 Axes>"
      ]
     },
     "metadata": {
      "needs_background": "light"
     },
     "output_type": "display_data"
    }
   ],
   "source": [
    "plt.scatter([x[0] for x in conv_x], [x[1] for x in conv_x])\n",
    "plt.xlabel(\"$x$\", fontsize=20)\n",
    "plt.ylabel(\"$y$\", fontsize=20)\n",
    "plt.xticks(fontsize=20)\n",
    "plt.yticks(fontsize=20)\n",
    "plt.title(\"$x_0 = (0, -1)$\", fontsize=20)"
   ]
  },
  {
   "cell_type": "markdown",
   "metadata": {
    "slideshow": {
     "slide_type": "slide"
    }
   },
   "source": [
    "## Better iterative methods\n",
    "\n",
    "But before preconditioners, we can use **better iterative methods**. \n",
    "\n",
    "There is a whole **zoo** of iterative methods, but we need to know just few of them."
   ]
  },
  {
   "cell_type": "markdown",
   "metadata": {
    "slideshow": {
     "slide_type": "slide"
    }
   },
   "source": [
    "## Attempt 1: The steepest descent method\n",
    "\n",
    "- Suppose we **change** $\\tau$ every step, i.e. \n",
    "\n",
    "$$\n",
    "   x_{k+1} = x_k - \\tau_k (A x_k - f).\n",
    "$$\n",
    "\n",
    "- A possible choice of $\\tau_k$ is such that it minimizes norm of the current residual\n",
    "\n",
    "$$ \\tau_k = \\arg\\min_{\\tau} \\|A(x_k - \\tau_k (A x_k - f)) - f\\|_2^2.$$\n",
    "\n",
    "- This problem can be solved abnalytically (derive this solution!)\n",
    "\n",
    "$$ \\tau_k = \\frac{r_k^{\\top}r_k}{r_k^{\\top}Ar_k}, \\quad r_k = Ax_k - f $$\n",
    "\n",
    "- This method is called **the steepest descent**.\n",
    "\n",
    "- However, it still converges similarly to the Richardson iteration."
   ]
  },
  {
   "cell_type": "markdown",
   "metadata": {
    "slideshow": {
     "slide_type": "slide"
    }
   },
   "source": [
    "## Attempt 2: Chebyshev iteration\n",
    "\n",
    "Another way to find $\\tau_k$ is to consider\n",
    "\n",
    "$$e_{k+1} = (I - \\tau_k A) e_k = (I - \\tau_k A) (I - \\tau_{k-1} A)  e_{k-1} = \\ldots = p(A) e_0, $$\n",
    "\n",
    "where $p(A)$ is a **matrix polynomial** (simplest matrix function)  \n",
    "\n",
    "$$\n",
    "   p(A) = (I - \\tau_k A) \\ldots (I - \\tau_0 A),\n",
    "$$\n",
    "\n",
    "and $p(0) = 1$."
   ]
  },
  {
   "cell_type": "markdown",
   "metadata": {
    "slideshow": {
     "slide_type": "slide"
    }
   },
   "source": [
    "## Optimal choice of time steps\n",
    "The error is written as \n",
    "\n",
    "$$e_{k+1} = p(A) e_0, $$\n",
    "\n",
    "and hence\n",
    "\n",
    "$$\\|e_{k+1}\\| \\leq \\|p(A)\\| \\|e_0\\|, $$\n",
    "\n",
    "where $p(0) = 1$ and $p(A)$ is a **matrix polynomial**. \n",
    "\n",
    "To get better **error reduction**, we need to minimize\n",
    "\n",
    "$$\\Vert p(A) \\Vert$$ \n",
    "\n",
    "over all possible polynomials $p(x)$ of degree $k+1$ such that $p(0)=1$. We will use $\\|\\cdot\\|_2$."
   ]
  },
  {
   "cell_type": "markdown",
   "metadata": {
    "slideshow": {
     "slide_type": "slide"
    }
   },
   "source": [
    "##  Polynomials least deviating from zeros\n",
    "\n",
    "Important special case: $A = A^* > 0$.\n",
    "\n",
    "Then $A = U \\Lambda U^*$, \n",
    "\n",
    "and \n",
    "\n",
    "\n",
    "\n",
    "$$\\Vert p(A) \\Vert_2 = \\Vert U p(\\Lambda) U^* \\Vert_2 = \\Vert p(\\Lambda) \\Vert_2 = \\max_i |p(\\lambda_i)| \\overset{!}{\\leq}\n",
    "\\max_{\\lambda_\\min \\leq \\lambda {\\leq} \\lambda_\\max} |p(\\lambda)|.$$\n",
    "\n",
    "The latter inequality is the only approximation. Here we make a <font color='red'> crucial assumption </font> that we do not want to benefit from distribution of spectra between $\\lambda_\\min$ and $\\lambda_\\max$.\n",
    "\n",
    "Thus, we need to find a polynomial such that $p(0) = 1$, that has the least possible deviation from $0$ on $[\\lambda_\\min, \\lambda_\\max]$."
   ]
  },
  {
   "cell_type": "markdown",
   "metadata": {
    "slideshow": {
     "slide_type": "slide"
    }
   },
   "source": [
    "##  Polynomials least deviating from zeros (2)\n",
    "\n",
    "We can do the affine transformation of the interval $[\\lambda_\\min, \\lambda_\\max]$ to the interval $[-1, 1]$:\n",
    "\n",
    "$$\n",
    "\\xi = \\frac{{\\lambda_\\max + \\lambda_\\min - (\\lambda_\\min-\\lambda_\\max)x}}{2}, \\quad x\\in [-1, 1].\n",
    "$$\n",
    "\n",
    "The problem is then reduced to the problem of finding the **polynomial least deviating from zero** on an interval $[-1, 1]$."
   ]
  },
  {
   "cell_type": "markdown",
   "metadata": {
    "slideshow": {
     "slide_type": "slide"
    }
   },
   "source": [
    "## Exact solution: Chebyshev polynomials\n",
    "\n",
    "The exact solution to this problem is given by the famous **Chebyshev polynomials** of the form\n",
    "\n",
    "$$T_n(x) =  \\cos (n \\arccos x)$$"
   ]
  },
  {
   "cell_type": "markdown",
   "metadata": {
    "slideshow": {
     "slide_type": "slide"
    }
   },
   "source": [
    "## What do you need to know about Chebyshev polynomials\n",
    "\n",
    "1. This is a polynomial! \n",
    "\n",
    "2. We can express $T_n$ from $T_{n-1}$ and $T_{n-2}$: \n",
    "\n",
    "$$T_n(x) = 2x T_{n-1}(x) - T_{n-2}(x), \\quad T_0(x)=1, \\quad T_1(x)=x$$\n",
    "\n",
    "3. $|T_n(x)| \\leq 1$ on $x \\in [-1, 1]$.\n",
    "\n",
    "4. It has $(n+1)$ **alternation points**, where the maximal absolute value is achieved (this is the sufficient and necessary condition for the **optimality**) (Chebyshev alternance theorem, no proof here).\n",
    "\n",
    "5. The **roots** are just \n",
    "\n",
    "$$n \\arccos x_k = \\frac{\\pi}{2} + \\pi k, \\quad \\rightarrow\\quad x_k = \\cos \\frac{\\pi(2k + 1)}{2n}, \\; k = 0, \\ldots,n-1$$\n",
    "\n",
    "We can plot them..."
   ]
  },
  {
   "cell_type": "code",
   "execution_count": 5,
   "metadata": {
    "slideshow": {
     "slide_type": "slide"
    }
   },
   "outputs": [
    {
     "data": {
      "text/plain": [
       "Text(0.5,1,'Interval $x\\\\in[-1.1, 1.1]$')"
      ]
     },
     "execution_count": 5,
     "metadata": {},
     "output_type": "execute_result"
    },
    {
     "data": {
      "image/png": "[encoded data removed]",
      "text/plain": [
       "<Figure size 432x288 with 2 Axes>"
      ]
     },
     "metadata": {
      "needs_background": "light"
     },
     "output_type": "display_data"
    }
   ],
   "source": [
    "import numpy as np\n",
    "import matplotlib.pyplot as plt\n",
    "%matplotlib inline\n",
    "x1 = np.linspace(-1, 1, 128)\n",
    "x2 = np.linspace(-1.1, 1.1, 128)\n",
    "p = np.polynomial.Chebyshev((0, 0, 0, 0, 0, 0, 0, 0, 0, 1), (-1, 1)) #These are Chebyshev series, a proto of \"chebfun system\" in MATLAB\n",
    "fig, (ax1, ax2) = plt.subplots(1, 2)\n",
    "ax1.plot(x1, p(x1))\n",
    "ax1.set_title('Interval $x\\in[-1, 1]$')\n",
    "ax2.plot(x2, p(x2))\n",
    "ax2.set_title('Interval $x\\in[-1.1, 1.1]$')"
   ]
  },
  {
   "cell_type": "markdown",
   "metadata": {
    "slideshow": {
     "slide_type": "slide"
    }
   },
   "source": [
    "## Convergence of the Chebyshev-accelerated Richardson iteration\n",
    "\n",
    "Note that $p(x) = (1-\\tau_n x)\\dots (1-\\tau_0 x)$, hence roots of $p(x)$ are $1/\\tau_i$ and that we additionally need to map back from $[-1,1]$ to $[\\lambda_\\min, \\lambda_\\max]$.\n",
    "This results into \n",
    "\n",
    "$$\\tau_i = \\frac{2}{\\lambda_\\max + \\lambda_\\min - (\\lambda_\\max - \\lambda_\\min)x_i}, \\quad x_i = \\cos \\frac{\\pi(2i + 1)}{2n}\\quad i=0,\\dots,n-1$$\n",
    "\n",
    "The convergence (we only give the result without the proof) is now given by\n",
    "\n",
    "$$\n",
    "   e_{k+1} \\leq C q^k e_0, \\quad q = \\frac{\\sqrt{\\mathrm{cond}(A)}-1}{\\sqrt{\\mathrm{cond}(A)}+1},\n",
    "$$\n",
    "\n",
    "which is better than in the Richardson iteration."
   ]
  },
  {
   "cell_type": "code",
   "execution_count": 6,
   "metadata": {
    "slideshow": {
     "slide_type": "slide"
    }
   },
   "outputs": [
    {
     "data": {
      "image/png": "[encoded data removed]",
      "text/plain": [
       "<Figure size 432x288 with 1 Axes>"
      ]
     },
     "metadata": {
      "needs_background": "light"
     },
     "output_type": "display_data"
    }
   ],
   "source": [
    "niters = 64\n",
    "roots = [np.cos((np.pi * (2 * i + 1)) / (2 * niters)) for i in range(niters)]\n",
    "taus = [(lam_max + lam_min - (lam_min - lam_max) * r) / 2 for r in roots]\n",
    "x = np.zeros(n)\n",
    "r = A.dot(x) - rhs\n",
    "res_cheb = [np.linalg.norm(r)]\n",
    "\n",
    "# Implementation may be non-optimal if number of iterations is not power of two\n",
    "def good_shuffle(idx):\n",
    "    if len(idx) == 1:\n",
    "        return idx\n",
    "    else:\n",
    "        new_len = int(np.ceil((len(idx) / 2)))\n",
    "        new_idx = good_shuffle(idx[:new_len])\n",
    "        res_perm = []\n",
    "        perm_count = 0\n",
    "        for i in new_idx:\n",
    "            res_perm.append(i)\n",
    "            perm_count += 1\n",
    "            if perm_count == len(idx):\n",
    "                break\n",
    "            res_perm.append(len(idx) + 1 - i)\n",
    "            perm_count += 1\n",
    "            if perm_count == len(idx):\n",
    "                break\n",
    "        return res_perm\n",
    "\n",
    "# good_perm = good_shuffle([i for i in range(1, niters+1)])\n",
    "good_perm = [i for i in range(niters, 0, -1)]\n",
    "# good_perm = np.random.permutation([i for i in range(1, niters+1)])\n",
    "\n",
    "for i in range(niters):\n",
    "    x = x - 1.0/taus[good_perm[i] - 1] * r\n",
    "    r = A.dot(x) - rhs\n",
    "    res_cheb.append(np.linalg.norm(r))\n",
    "    \n",
    "plt.semilogy(res_richardson, label=\"Richardson\")\n",
    "plt.semilogy(res_cheb, label=\"Chebyshev\")\n",
    "plt.legend(fontsize=20)\n",
    "plt.xlabel(\"Number of iterations, $k$\", fontsize=20)\n",
    "plt.ylabel(\"Residual norm, $\\|Ax_k - b\\|_2$\", fontsize=20)\n",
    "plt.xticks(fontsize=20)\n",
    "_ = plt.yticks(fontsize=20)"
   ]
  },
  {
   "cell_type": "markdown",
   "metadata": {
    "slideshow": {
     "slide_type": "fragment"
    }
   },
   "source": [
    "### What happened with great Chebyshev iterations?"
   ]
  },
  {
   "cell_type": "markdown",
   "metadata": {
    "slideshow": {
     "slide_type": "fragment"
    }
   },
   "source": [
    "- Permutation of roots of Chebyshev polynomial has crucial effect on convergence\n",
    "- On the optimal permutation you can read in paper (V. Lebedev, S. Finogenov 1971)  ([ru](http://www.mathnet.ru/links/42ab1a270ad179d43359ef8fab53422c/zvmmf6870.pdf), [en](https://www.sciencedirect.com/science/article/abs/pii/0041555371901698?via%3Dihub))"
   ]
  },
  {
   "cell_type": "markdown",
   "metadata": {
    "slideshow": {
     "slide_type": "slide"
    }
   },
   "source": [
    "### [Chebfun](http://www.chebfun.org/) project\n",
    "\n",
    "- Opensource project for numerical computing ([Python](https://github.com/chebpy/chebpy) and [Matlab](https://github.com/chebfun/chebfun) interfaces)\n",
    "- It is based on numerical algorithms working with piecewise polynomial interpolants and Chebyshev polynomials\n",
    "- This project was initiated by Nick Trefethen and his student Zachary Battles in 2002, see [paper on chebfun project in SISC](http://www.chebfun.org/publications/chebfun_paper.pdf)\n",
    "- Chebfun toolbox focuses mostly on the following problems\n",
    "    - Approximation\n",
    "    - Quadrature\n",
    "    - ODE\n",
    "    - PDE\n",
    "    - Rootfinding\n",
    "    - 1D global optimization"
   ]
  },
  {
   "cell_type": "markdown",
   "metadata": {
    "slideshow": {
     "slide_type": "slide"
    }
   },
   "source": [
    "## Beyond Chebyshev\n",
    "\n",
    "- We have made an important assumption about the spectrum: it is contained within an interval over the real line (and we need to know the bounds)\n",
    "\n",
    "- If the spectrum is contained within **two intervals**, and we know the bounds, we can also put the optimization problem for the **optimal polynomial**."
   ]
  },
  {
   "cell_type": "markdown",
   "metadata": {
    "slideshow": {
     "slide_type": "slide"
    }
   },
   "source": [
    "## Spectrum of the matrix contained in multiple segments\n",
    "\n",
    "- For the case of **two segments** the best polynomial is given by **[Zolotarev polynomials](https://www.encyclopediaofmath.org/index.php/Zolotarev_polynomials)** (expressed in terms of elliptic functions). Original paper was published in 1877, see details [here](http://gpntb.dlibrary.org/ru/nodes/4245-zolotarev-e-prilozhenie-ellipticheskih-funktsiy-k-voprosam-o-funktsiyah-naimenee-i-naibolee-otklonyayuschihsya-ot-nulya-spb-1877) \n",
    "\n",
    "- For the case of **more than two segments** the best polynomial can be expressed in terms of **hyperelliptic functions**"
   ]
  },
  {
   "cell_type": "markdown",
   "metadata": {
    "slideshow": {
     "slide_type": "slide"
    }
   },
   "source": [
    "## How can we make it better\n",
    "\n",
    "- The implementation of the Chebyshev acceleration requires the knowledge of the spectrum.\n",
    "\n",
    "- It only stores the **previous vector** $x_k$ and computes the new correction vector\n",
    "\n",
    "$$r_k = A x_k - f.$$\n",
    "\n",
    "- It belongs to the class of **two-term** iterative methods, i.e. it approximates $x_{k+1}$ using 2 vectors: $x_k$ and $r_k$.\n",
    "\n",
    "- It appears that if we **store more vectors**, then we can go without the spectrum estimation (and better convergence in practice)!"
   ]
  },
  {
   "cell_type": "markdown",
   "metadata": {
    "slideshow": {
     "slide_type": "slide"
    }
   },
   "source": [
    "## Crucial point: Krylov subspace\n",
    "\n",
    "The Chebyshev method produces the approximation of the form\n",
    "\n",
    "$$x_{k+1} = x_0 + p(A) r_0,$$\n",
    "\n",
    "i.e. it lies in the **Krylov subspace** of the matrix  which is defined as\n",
    "\n",
    "$$\n",
    "   \\mathcal{K}_k(A, r_0) = \\mathrm{Span}(r_0, Ar_0, A^2 r_0, \\ldots, A^{k-1}r_0 )\n",
    "$$\n",
    "\n",
    "The most natural approach then is to find the vector in this **linear subspace** that minimizes \n",
    "certain **norm of the error**"
   ]
  },
  {
   "cell_type": "markdown",
   "metadata": {
    "slideshow": {
     "slide_type": "slide"
    }
   },
   "source": [
    "## Idea of Krylov methods\n",
    "\n",
    "The idea is to minimize given functional:\n",
    "- Energy norm of error for systems with hermitian positive-definite matrices (CG method).\n",
    "- Residual norm for systems with general matrices (MINRES and GMRES methods).\n",
    "- Rayleigh quotient for eigenvalue problems (Lanczos method).\n",
    "\n",
    "To make methods practical one has to \n",
    "1. Orthogonalize vectors $A^i r_0$ of the Krylov subspace for stability (Lanczos process).\n",
    "2. Derive recurrent formulas to decrease complexity.\n",
    "\n",
    "We will consider these methods in details on the next lecture."
   ]
  },
  {
   "cell_type": "markdown",
   "metadata": {
    "slideshow": {
     "slide_type": "slide"
    }
   },
   "source": [
    "## Take home message\n",
    "\n",
    "- Main idea of iterative methods\n",
    "- Richardson iteration: hermitian and non-hermitian case\n",
    "- Chebyshev acceleration\n",
    "- Definition of Krylov subspace"
   ]
  },
  {
   "cell_type": "markdown",
   "metadata": {
    "slideshow": {
     "slide_type": "slide"
    }
   },
   "source": [
    "### Questions?"
   ]
  },
  {
   "cell_type": "code",
   "execution_count": null,
   "metadata": {
    "slideshow": {
     "slide_type": "skip"
    }
   },
   "outputs": [],
   "source": [
    "from IPython.core.display import HTML\n",
    "def css_styling():\n",
    "    styles = open(\"./styles/custom.css\", \"r\").read()\n",
    "    return HTML(styles)\n",
    "css_styling()"
   ]
  }
 ],
 "metadata": {
  "celltoolbar": "Slideshow",
  "kernelspec": {
   "display_name": "Python 3",
   "language": "python",
   "name": "python3"
  },
  "language_info": {
   "codemirror_mode": {
    "name": "ipython",
    "version": 3
   },
   "file_extension": ".py",
   "mimetype": "text/x-python",
   "name": "python",
   "nbconvert_exporter": "python",
   "pygments_lexer": "ipython3",
   "version": "3.6.9"
  }
 },
 "nbformat": 4,
 "nbformat_minor": 2
}
