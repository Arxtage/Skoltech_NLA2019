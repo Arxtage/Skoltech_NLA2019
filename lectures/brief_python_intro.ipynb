{
 "cells": [
  {
   "cell_type": "markdown",
   "metadata": {
    "slideshow": {
     "slide_type": "slide"
    }
   },
   "source": [
    "# Python intro\n",
    "\n",
    "Topics for today\n",
    "\n",
    "- NumPy arrays and vectorization\n",
    "- Styleguides\n",
    "- Plots"
   ]
  },
  {
   "cell_type": "markdown",
   "metadata": {
    "slideshow": {
     "slide_type": "slide"
    }
   },
   "source": [
    "### Use numpy arrays, not lists!\n",
    "\n",
    "- Available all necessary math operations with vectors, matrices and tensors\n",
    "- Optimized implementation: more details in the next week lectures\n",
    "- Easy to use!"
   ]
  },
  {
   "cell_type": "code",
   "execution_count": 1,
   "metadata": {
    "slideshow": {
     "slide_type": "slide"
    }
   },
   "outputs": [
    {
     "name": "stdout",
     "output_type": "stream",
     "text": [
      "[[-0.05198975 -1.6177936   0.35738491]\n",
      " [-0.80003032  0.16986904  0.67194215]\n",
      " [ 0.19633626 -0.43916397 -0.27970723]]\n",
      "[-1.37406971  1.36160486 -0.81299262]\n",
      "[-1.37406971  1.36160486 -0.81299262]\n",
      "[-1.37406971  1.36160486 -0.81299262]\n"
     ]
    }
   ],
   "source": [
    "import numpy as np\n",
    "\n",
    "n = 3\n",
    "A = np.random.randn(n, n)\n",
    "x = np.random.randn(n)\n",
    "print(A)\n",
    "print(A @ x)\n",
    "print(A.dot(x))\n",
    "print(np.dot(A, x))"
   ]
  },
  {
   "cell_type": "code",
   "execution_count": 2,
   "metadata": {
    "slideshow": {
     "slide_type": "slide"
    }
   },
   "outputs": [
    {
     "name": "stdout",
     "output_type": "stream",
     "text": [
      "Trace of the matrix = -0.16182793439617754\n",
      "Diagonal of the matrix = [-0.05198975  0.16986904 -0.27970723]\n",
      "Different sums\n",
      "Sum all elements in the matrix -1.793152495765186\n",
      "Sum all evelements over rows \n",
      " [-1.31239843  0.04178087 -0.52253494] \n",
      " and columns \n",
      " [-0.65568381 -1.88708852  0.74961984]\n",
      "Inverse matrix = [[ 0.99283899 -2.44404555 -4.60278254]\n",
      " [-0.36832635 -0.22306953 -1.00649561]\n",
      " [ 1.27521176 -1.36532279 -5.22573727]]\n"
     ]
    }
   ],
   "source": [
    "print(\"Trace of the matrix =\", np.trace(A))\n",
    "print(\"Diagonal of the matrix =\", np.diag(A))\n",
    "print(\"Different sums\")\n",
    "print(\"Sum all elements in the matrix\", np.sum(A))\n",
    "print(\"Sum all evelements over rows \\n {} \\n and columns \\n {}\".format(np.sum(A, 1), np.sum(A, 0)))\n",
    "print(\"Inverse matrix =\", np.linalg.inv(A))"
   ]
  },
  {
   "cell_type": "markdown",
   "metadata": {
    "slideshow": {
     "slide_type": "slide"
    }
   },
   "source": [
    "### Broadcasting\n",
    "\n",
    "-  Is it possible to compute $A + x$ for the matrix $A$ and vector $x$?"
   ]
  },
  {
   "cell_type": "code",
   "execution_count": 3,
   "metadata": {
    "slideshow": {
     "slide_type": "slide"
    }
   },
   "outputs": [
    {
     "name": "stdout",
     "output_type": "stream",
     "text": [
      "[[-0.05198975 -1.6177936   0.35738491]\n",
      " [-0.80003032  0.16986904  0.67194215]\n",
      " [ 0.19633626 -0.43916397 -0.27970723]]\n",
      "[-0.95002605  1.02064703  0.63722582]\n",
      "[[-1.00201579 -0.59714657  0.99461074]\n",
      " [-1.75005637  1.19051607  1.30916797]\n",
      " [-0.75368979  0.58148306  0.3575186 ]]\n",
      "[[ 0.04939162 -1.65119622  0.2277349 ]\n",
      " [ 0.76004964  0.17337633  0.42817889]\n",
      " [-0.18652456 -0.4482314  -0.17823667]]\n"
     ]
    }
   ],
   "source": [
    "print(A)\n",
    "print(x)\n",
    "print(A + x)\n",
    "print(A * x)"
   ]
  },
  {
   "cell_type": "markdown",
   "metadata": {
    "slideshow": {
     "slide_type": "slide"
    }
   },
   "source": [
    "### And what about columns?"
   ]
  },
  {
   "cell_type": "code",
   "execution_count": 4,
   "metadata": {
    "slideshow": {
     "slide_type": "slide"
    }
   },
   "outputs": [
    {
     "name": "stdout",
     "output_type": "stream",
     "text": [
      "[[-0.05198975 -1.6177936   0.35738491]\n",
      " [-0.80003032  0.16986904  0.67194215]\n",
      " [ 0.19633626 -0.43916397 -0.27970723]]\n",
      "[-0.95002605  1.02064703  0.63722582]\n",
      "[[-1.00201579 -2.56781964 -0.59264113]\n",
      " [ 0.22061671  1.19051607  1.69258918]\n",
      " [ 0.83356208  0.19806186  0.3575186 ]]\n"
     ]
    }
   ],
   "source": [
    "print(A)\n",
    "print(x)\n",
    "print(A + x[:, np.newaxis])"
   ]
  },
  {
   "cell_type": "markdown",
   "metadata": {
    "slideshow": {
     "slide_type": "slide"
    }
   },
   "source": [
    "### One more example"
   ]
  },
  {
   "cell_type": "code",
   "execution_count": 6,
   "metadata": {
    "slideshow": {
     "slide_type": "slide"
    }
   },
   "outputs": [
    {
     "name": "stdout",
     "output_type": "stream",
     "text": [
      "[[ 0 -1 -2 -3]\n",
      " [ 1  0 -1 -2]\n",
      " [ 2  1  0 -1]\n",
      " [ 3  2  1  0]]\n"
     ]
    }
   ],
   "source": [
    "i = np.arange(4)\n",
    "j = np.arange(4)\n",
    "mat = i[:, None] - j[None, :]\n",
    "print(mat)"
   ]
  },
  {
   "cell_type": "markdown",
   "metadata": {
    "slideshow": {
     "slide_type": "slide"
    }
   },
   "source": [
    "### No loops!\n",
    "\n",
    "- Avoid loops wherever its possible!\n",
    "- Loops in Python are very slow\n",
    "- Use initializers from NumPy"
   ]
  },
  {
   "cell_type": "code",
   "execution_count": 7,
   "metadata": {
    "slideshow": {
     "slide_type": "slide"
    }
   },
   "outputs": [
    {
     "name": "stdout",
     "output_type": "stream",
     "text": [
      "7.06 ms ± 544 µs per loop (mean ± std. dev. of 7 runs, 100 loops each)\n"
     ]
    }
   ],
   "source": [
    "%%timeit\n",
    "a = []\n",
    "n = 100000\n",
    "for i in range(n):\n",
    "    a.append(1)"
   ]
  },
  {
   "cell_type": "code",
   "execution_count": 8,
   "metadata": {
    "slideshow": {
     "slide_type": "slide"
    }
   },
   "outputs": [
    {
     "name": "stdout",
     "output_type": "stream",
     "text": [
      "1.58 µs ± 76.3 ns per loop (mean ± std. dev. of 7 runs, 1000000 loops each)\n",
      "419 ns ± 19.2 ns per loop (mean ± std. dev. of 7 runs, 1000000 loops each)\n"
     ]
    }
   ],
   "source": [
    "%timeit np.ones(n)\n",
    "%timeit [1 for i in range(n)]"
   ]
  },
  {
   "cell_type": "code",
   "execution_count": 11,
   "metadata": {
    "slideshow": {
     "slide_type": "slide"
    }
   },
   "outputs": [
    {
     "name": "stdout",
     "output_type": "stream",
     "text": [
      "[0. 0. 0.]\n",
      "[[1. 1. 1.]\n",
      " [1. 1. 1.]\n",
      " [1. 1. 1.]]\n",
      "[[1. 0. 0.]\n",
      " [0. 1. 0.]\n",
      " [0. 0. 1.]]\n",
      "[0 1 2]\n"
     ]
    }
   ],
   "source": [
    "print(np.zeros(3))\n",
    "print(np.ones((3, 3)))\n",
    "print(np.eye(3))\n",
    "print(np.arange(3))"
   ]
  },
  {
   "cell_type": "markdown",
   "metadata": {
    "slideshow": {
     "slide_type": "slide"
    }
   },
   "source": [
    "### Styleguides\n",
    "\n",
    "- You write code not for you, but for people who will read it!\n",
    "- Remember about proper naming\n",
    "- Spaces between math operators and arguments\n",
    "- PEP8 (PEP = Python Enhancement Proposal) http://legacy.python.org/dev/peps/pep-0008/\n",
    "- Google Python Styleguide: http://google.github.io/styleguide/pyguide.html "
   ]
  },
  {
   "cell_type": "markdown",
   "metadata": {
    "slideshow": {
     "slide_type": "slide"
    }
   },
   "source": [
    "## Plotting\n",
    "\n",
    "- Use matplotlib library\n",
    "- Check the following parts of plots\n",
    "    - Scale (log vs. linear)\n",
    "    - Fontsize in axis labels\n",
    "    - Fontsize in ticks\n",
    "    - Fontsize in legend\n",
    "    - Clear difference between lines colours and/or markers\n",
    "    - Grid if necessary"
   ]
  },
  {
   "cell_type": "code",
   "execution_count": 12,
   "metadata": {
    "slideshow": {
     "slide_type": "slide"
    }
   },
   "outputs": [],
   "source": [
    "import matplotlib.pyplot as plt\n",
    "%matplotlib inline"
   ]
  },
  {
   "cell_type": "code",
   "execution_count": 13,
   "metadata": {
    "slideshow": {
     "slide_type": "slide"
    }
   },
   "outputs": [],
   "source": [
    "c = 1.\n",
    "num_points = 100\n",
    "method_1 = [c / k**5 for k in range(1, num_points)]\n",
    "method_2 = [c * 0.5**k for k in range(1, num_points)]"
   ]
  },
  {
   "cell_type": "code",
   "execution_count": 14,
   "metadata": {
    "slideshow": {
     "slide_type": "slide"
    }
   },
   "outputs": [
    {
     "data": {
      "text/plain": [
       "Text(0.5, 0, 'Number of iterations')"
      ]
     },
     "execution_count": 14,
     "metadata": {},
     "output_type": "execute_result"
    },
    {
     "data": {
      "image/png": "[encoded data removed]",
      "text/plain": [
       "<Figure size 432x288 with 1 Axes>"
      ]
     },
     "metadata": {
      "needs_background": "light"
     },
     "output_type": "display_data"
    }
   ],
   "source": [
    "plt.plot(method_1, label=\"Method A\")\n",
    "plt.plot(method_2, label=\"Method B\")\n",
    "plt.legend()\n",
    "plt.ylabel(\"Convergence\")\n",
    "plt.xlabel(\"Number of iterations\")"
   ]
  },
  {
   "cell_type": "markdown",
   "metadata": {
    "slideshow": {
     "slide_type": "slide"
    }
   },
   "source": [
    "### If you leave this plot as it is, you will get penalty!"
   ]
  },
  {
   "cell_type": "code",
   "execution_count": 15,
   "metadata": {
    "slideshow": {
     "slide_type": "slide"
    }
   },
   "outputs": [
    {
     "data": {
      "text/plain": [
       "(array([1.e-36, 1.e-32, 1.e-28, 1.e-24, 1.e-20, 1.e-16, 1.e-12, 1.e-08,\n",
       "        1.e-04, 1.e+00, 1.e+04, 1.e+08]),\n",
       " <a list of 12 Text yticklabel objects>)"
      ]
     },
     "execution_count": 15,
     "metadata": {},
     "output_type": "execute_result"
    },
    {
     "data": {
      "image/png": "[encoded data removed]",
      "text/plain": [
       "<Figure size 432x288 with 1 Axes>"
      ]
     },
     "metadata": {
      "needs_background": "light"
     },
     "output_type": "display_data"
    }
   ],
   "source": [
    "plt.plot(method_1, label=\"Method A\", linewidth=4)\n",
    "plt.plot(method_2, label=\"Method B\", linewidth=4)\n",
    "plt.legend(fontsize=18)\n",
    "plt.ylabel(\"Convergence\", fontsize=18)\n",
    "plt.xlabel(\"Number of iterations\", fontsize=18)\n",
    "plt.yscale(\"log\")\n",
    "plt.grid(True)\n",
    "plt.xticks(fontsize=18)\n",
    "plt.yticks(fontsize=18)"
   ]
  },
  {
   "cell_type": "code",
   "execution_count": 16,
   "metadata": {
    "slideshow": {
     "slide_type": "slide"
    }
   },
   "outputs": [
    {
     "data": {
      "text/plain": [
       "(array([1.e-36, 1.e-32, 1.e-28, 1.e-24, 1.e-20, 1.e-16, 1.e-12, 1.e-08,\n",
       "        1.e-04, 1.e+00, 1.e+04, 1.e+08]),\n",
       " <a list of 12 Text yticklabel objects>)"
      ]
     },
     "execution_count": 16,
     "metadata": {},
     "output_type": "execute_result"
    },
    {
     "data": {
      "image/png": "[encoded data removed]",
      "text/plain": [
       "<Figure size 432x288 with 1 Axes>"
      ]
     },
     "metadata": {
      "needs_background": "light"
     },
     "output_type": "display_data"
    }
   ],
   "source": [
    "plt.rc(\"text\", usetex=True)\n",
    "plt.plot(method_1, label=\"Method A\", linewidth=4)\n",
    "plt.plot(method_2, label=\"Method B\", linewidth=4)\n",
    "plt.legend(fontsize=18)\n",
    "plt.ylabel(\"Convergence\", fontsize=18)\n",
    "plt.xlabel(\"Number of iterations\", fontsize=18)\n",
    "plt.yscale(\"log\")\n",
    "plt.grid(True)\n",
    "plt.xticks(fontsize=18)\n",
    "plt.yticks(fontsize=18)"
   ]
  },
  {
   "cell_type": "code",
   "execution_count": 17,
   "metadata": {
    "slideshow": {
     "slide_type": "slide"
    }
   },
   "outputs": [
    {
     "data": {
      "image/png": "[encoded data removed]",
      "text/plain": [
       "<Figure size 576x432 with 1 Axes>"
      ]
     },
     "metadata": {
      "needs_background": "light"
     },
     "output_type": "display_data"
    }
   ],
   "source": [
    "plt.figure(figsize=(8, 6))\n",
    "plt.plot(method_1, label=\"Method A\", linewidth=4)\n",
    "plt.plot(method_2, label=\"Method B\", linewidth=4)\n",
    "plt.legend(fontsize=18)\n",
    "plt.ylabel(\"Convergence\", fontsize=18)\n",
    "plt.xlabel(\"Number of iterations\", fontsize=18)\n",
    "plt.yscale(\"log\")\n",
    "plt.grid(True)\n",
    "plt.xticks(fontsize=18)\n",
    "_ = plt.yticks(fontsize=18)"
   ]
  },
  {
   "cell_type": "markdown",
   "metadata": {
    "slideshow": {
     "slide_type": "slide"
    }
   },
   "source": [
    "## Summary\n",
    "\n",
    "- Use NumPy objects\n",
    "- Check styleguides to write readable code!\n",
    "- Make nice plots with clear desciptions and conclusions"
   ]
  }
 ],
 "metadata": {
  "celltoolbar": "Slideshow",
  "kernelspec": {
   "display_name": "Python 3",
   "language": "python",
   "name": "python3"
  },
  "language_info": {
   "codemirror_mode": {
    "name": "ipython",
    "version": 3
   },
   "file_extension": ".py",
   "mimetype": "text/x-python",
   "name": "python",
   "nbconvert_exporter": "python",
   "pygments_lexer": "ipython3",
   "version": "3.6.9"
  }
 },
 "nbformat": 4,
 "nbformat_minor": 2
}
